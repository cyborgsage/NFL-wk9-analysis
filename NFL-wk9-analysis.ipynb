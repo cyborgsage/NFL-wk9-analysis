{
 "cells": [
  {
   "cell_type": "markdown",
   "id": "abd2f0ac",
   "metadata": {},
   "source": [
    "Boris Chen or Boris Degen?"
   ]
  },
  {
   "cell_type": "code",
   "execution_count": 1,
   "id": "393d3184",
   "metadata": {},
   "outputs": [],
   "source": [
    "import pandas as pd\n",
    "import numpy as np\n",
    "import math\n",
    "import matplotlib.pyplot as plt\n",
    "import seaborn as sns\n",
    "from sklearn.cluster import KMeans\n",
    "from sklearn import metrics\n",
    "from sklearn.metrics import calinski_harabasz_score\n",
    "from sklearn.cluster import AgglomerativeClustering\n",
    "%matplotlib inline\n",
    "plt.style.use('seaborn')"
   ]
  },
  {
   "cell_type": "code",
   "execution_count": 3,
   "id": "3de6eee7",
   "metadata": {},
   "outputs": [],
   "source": [
    "offense_df = pd.read_csv('data/nfl_pass_rush_receive_raw_data.csv')\n",
    "dst_df = pd.read_csv('data/nfl_dst_raw_data.csv')\n",
    "kicking_df = pd.read_csv('data/nfl_kicking_raw_data.csv')"
   ]
  },
  {
   "cell_type": "markdown",
   "id": "898e7511",
   "metadata": {},
   "source": [
    "Load data for offenses, D/STs, and kicking. <br>\n",
    "First, focus on offense data. Passing and QB play specifically. <br>\n",
    "Starting QBs will have established ranks and potentially clustered with k-means. <br>\n",
    "Players that have attempted passes on trick plays or other special play designs will be excluded."
   ]
  },
  {
   "cell_type": "code",
   "execution_count": 5,
   "id": "a31c38c1",
   "metadata": {},
   "outputs": [
    {
     "data": {
      "text/html": [
       "<div>\n",
       "<style scoped>\n",
       "    .dataframe tbody tr th:only-of-type {\n",
       "        vertical-align: middle;\n",
       "    }\n",
       "\n",
       "    .dataframe tbody tr th {\n",
       "        vertical-align: top;\n",
       "    }\n",
       "\n",
       "    .dataframe thead th {\n",
       "        text-align: right;\n",
       "    }\n",
       "</style>\n",
       "<table border=\"1\" class=\"dataframe\">\n",
       "  <thead>\n",
       "    <tr style=\"text-align: right;\">\n",
       "      <th></th>\n",
       "      <th>game_id</th>\n",
       "      <th>player_id</th>\n",
       "      <th>pos</th>\n",
       "      <th>player</th>\n",
       "      <th>team</th>\n",
       "      <th>pass_cmp</th>\n",
       "      <th>pass_att</th>\n",
       "      <th>pass_yds</th>\n",
       "      <th>pass_td</th>\n",
       "      <th>pass_int</th>\n",
       "      <th>...</th>\n",
       "      <th>OT</th>\n",
       "      <th>Roof</th>\n",
       "      <th>Surface</th>\n",
       "      <th>Temperature</th>\n",
       "      <th>Humidity</th>\n",
       "      <th>Wind_Speed</th>\n",
       "      <th>Vegas_Line</th>\n",
       "      <th>Vegas_Favorite</th>\n",
       "      <th>Over_Under</th>\n",
       "      <th>game_date</th>\n",
       "    </tr>\n",
       "  </thead>\n",
       "  <tbody>\n",
       "    <tr>\n",
       "      <th>0</th>\n",
       "      <td>202209080ram</td>\n",
       "      <td>AlleJo02</td>\n",
       "      <td>QB</td>\n",
       "      <td>Josh Allen</td>\n",
       "      <td>BUF</td>\n",
       "      <td>26</td>\n",
       "      <td>31</td>\n",
       "      <td>297</td>\n",
       "      <td>3</td>\n",
       "      <td>2</td>\n",
       "      <td>...</td>\n",
       "      <td>False</td>\n",
       "      <td>dome</td>\n",
       "      <td>matrixturf</td>\n",
       "      <td>72</td>\n",
       "      <td>45</td>\n",
       "      <td>0</td>\n",
       "      <td>-2.5</td>\n",
       "      <td>BUF</td>\n",
       "      <td>52.0</td>\n",
       "      <td>2022-09-08</td>\n",
       "    </tr>\n",
       "    <tr>\n",
       "      <th>1</th>\n",
       "      <td>202209080ram</td>\n",
       "      <td>SingDe00</td>\n",
       "      <td>RB</td>\n",
       "      <td>Devin Singletary</td>\n",
       "      <td>BUF</td>\n",
       "      <td>0</td>\n",
       "      <td>0</td>\n",
       "      <td>0</td>\n",
       "      <td>0</td>\n",
       "      <td>0</td>\n",
       "      <td>...</td>\n",
       "      <td>False</td>\n",
       "      <td>dome</td>\n",
       "      <td>matrixturf</td>\n",
       "      <td>72</td>\n",
       "      <td>45</td>\n",
       "      <td>0</td>\n",
       "      <td>-2.5</td>\n",
       "      <td>BUF</td>\n",
       "      <td>52.0</td>\n",
       "      <td>2022-09-08</td>\n",
       "    </tr>\n",
       "    <tr>\n",
       "      <th>2</th>\n",
       "      <td>202209080ram</td>\n",
       "      <td>MossZa00</td>\n",
       "      <td>RB</td>\n",
       "      <td>Zack Moss</td>\n",
       "      <td>BUF</td>\n",
       "      <td>0</td>\n",
       "      <td>0</td>\n",
       "      <td>0</td>\n",
       "      <td>0</td>\n",
       "      <td>0</td>\n",
       "      <td>...</td>\n",
       "      <td>False</td>\n",
       "      <td>dome</td>\n",
       "      <td>matrixturf</td>\n",
       "      <td>72</td>\n",
       "      <td>45</td>\n",
       "      <td>0</td>\n",
       "      <td>-2.5</td>\n",
       "      <td>BUF</td>\n",
       "      <td>52.0</td>\n",
       "      <td>2022-09-08</td>\n",
       "    </tr>\n",
       "    <tr>\n",
       "      <th>3</th>\n",
       "      <td>202209080ram</td>\n",
       "      <td>CookJa01</td>\n",
       "      <td>RB</td>\n",
       "      <td>James Cook</td>\n",
       "      <td>BUF</td>\n",
       "      <td>0</td>\n",
       "      <td>0</td>\n",
       "      <td>0</td>\n",
       "      <td>0</td>\n",
       "      <td>0</td>\n",
       "      <td>...</td>\n",
       "      <td>False</td>\n",
       "      <td>dome</td>\n",
       "      <td>matrixturf</td>\n",
       "      <td>72</td>\n",
       "      <td>45</td>\n",
       "      <td>0</td>\n",
       "      <td>-2.5</td>\n",
       "      <td>BUF</td>\n",
       "      <td>52.0</td>\n",
       "      <td>2022-09-08</td>\n",
       "    </tr>\n",
       "    <tr>\n",
       "      <th>4</th>\n",
       "      <td>202209080ram</td>\n",
       "      <td>DiggSt00</td>\n",
       "      <td>WR</td>\n",
       "      <td>Stefon Diggs</td>\n",
       "      <td>BUF</td>\n",
       "      <td>0</td>\n",
       "      <td>0</td>\n",
       "      <td>0</td>\n",
       "      <td>0</td>\n",
       "      <td>0</td>\n",
       "      <td>...</td>\n",
       "      <td>False</td>\n",
       "      <td>dome</td>\n",
       "      <td>matrixturf</td>\n",
       "      <td>72</td>\n",
       "      <td>45</td>\n",
       "      <td>0</td>\n",
       "      <td>-2.5</td>\n",
       "      <td>BUF</td>\n",
       "      <td>52.0</td>\n",
       "      <td>2022-09-08</td>\n",
       "    </tr>\n",
       "    <tr>\n",
       "      <th>...</th>\n",
       "      <td>...</td>\n",
       "      <td>...</td>\n",
       "      <td>...</td>\n",
       "      <td>...</td>\n",
       "      <td>...</td>\n",
       "      <td>...</td>\n",
       "      <td>...</td>\n",
       "      <td>...</td>\n",
       "      <td>...</td>\n",
       "      <td>...</td>\n",
       "      <td>...</td>\n",
       "      <td>...</td>\n",
       "      <td>...</td>\n",
       "      <td>...</td>\n",
       "      <td>...</td>\n",
       "      <td>...</td>\n",
       "      <td>...</td>\n",
       "      <td>...</td>\n",
       "      <td>...</td>\n",
       "      <td>...</td>\n",
       "      <td>...</td>\n",
       "    </tr>\n",
       "    <tr>\n",
       "      <th>95</th>\n",
       "      <td>202209110cin</td>\n",
       "      <td>HeywCo00</td>\n",
       "      <td>TE</td>\n",
       "      <td>Connor Heyward</td>\n",
       "      <td>PIT</td>\n",
       "      <td>0</td>\n",
       "      <td>0</td>\n",
       "      <td>0</td>\n",
       "      <td>0</td>\n",
       "      <td>0</td>\n",
       "      <td>...</td>\n",
       "      <td>True</td>\n",
       "      <td>outdoors</td>\n",
       "      <td>fieldturf</td>\n",
       "      <td>72</td>\n",
       "      <td>45</td>\n",
       "      <td>0</td>\n",
       "      <td>-7.0</td>\n",
       "      <td>CIN</td>\n",
       "      <td>44.0</td>\n",
       "      <td>2022-09-11</td>\n",
       "    </tr>\n",
       "    <tr>\n",
       "      <th>96</th>\n",
       "      <td>202209110cin</td>\n",
       "      <td>TaylTr02</td>\n",
       "      <td>WR</td>\n",
       "      <td>Trent Taylor</td>\n",
       "      <td>CIN</td>\n",
       "      <td>0</td>\n",
       "      <td>0</td>\n",
       "      <td>0</td>\n",
       "      <td>0</td>\n",
       "      <td>0</td>\n",
       "      <td>...</td>\n",
       "      <td>True</td>\n",
       "      <td>outdoors</td>\n",
       "      <td>fieldturf</td>\n",
       "      <td>72</td>\n",
       "      <td>45</td>\n",
       "      <td>0</td>\n",
       "      <td>-7.0</td>\n",
       "      <td>CIN</td>\n",
       "      <td>44.0</td>\n",
       "      <td>2022-09-11</td>\n",
       "    </tr>\n",
       "    <tr>\n",
       "      <th>97</th>\n",
       "      <td>202209110cin</td>\n",
       "      <td>MorgSt02</td>\n",
       "      <td>WR</td>\n",
       "      <td>Stanley Morgan Jr.</td>\n",
       "      <td>CIN</td>\n",
       "      <td>0</td>\n",
       "      <td>0</td>\n",
       "      <td>0</td>\n",
       "      <td>0</td>\n",
       "      <td>0</td>\n",
       "      <td>...</td>\n",
       "      <td>True</td>\n",
       "      <td>outdoors</td>\n",
       "      <td>fieldturf</td>\n",
       "      <td>72</td>\n",
       "      <td>45</td>\n",
       "      <td>0</td>\n",
       "      <td>-7.0</td>\n",
       "      <td>CIN</td>\n",
       "      <td>44.0</td>\n",
       "      <td>2022-09-11</td>\n",
       "    </tr>\n",
       "    <tr>\n",
       "      <th>98</th>\n",
       "      <td>202209110cin</td>\n",
       "      <td>WilcMi01</td>\n",
       "      <td>TE</td>\n",
       "      <td>Mitchell Wilcox</td>\n",
       "      <td>CIN</td>\n",
       "      <td>0</td>\n",
       "      <td>0</td>\n",
       "      <td>0</td>\n",
       "      <td>0</td>\n",
       "      <td>0</td>\n",
       "      <td>...</td>\n",
       "      <td>True</td>\n",
       "      <td>outdoors</td>\n",
       "      <td>fieldturf</td>\n",
       "      <td>72</td>\n",
       "      <td>45</td>\n",
       "      <td>0</td>\n",
       "      <td>-7.0</td>\n",
       "      <td>CIN</td>\n",
       "      <td>44.0</td>\n",
       "      <td>2022-09-11</td>\n",
       "    </tr>\n",
       "    <tr>\n",
       "      <th>99</th>\n",
       "      <td>202209110cin</td>\n",
       "      <td>BurrJo01</td>\n",
       "      <td>QB</td>\n",
       "      <td>Joe Burrow</td>\n",
       "      <td>CIN</td>\n",
       "      <td>33</td>\n",
       "      <td>53</td>\n",
       "      <td>338</td>\n",
       "      <td>2</td>\n",
       "      <td>4</td>\n",
       "      <td>...</td>\n",
       "      <td>True</td>\n",
       "      <td>outdoors</td>\n",
       "      <td>fieldturf</td>\n",
       "      <td>72</td>\n",
       "      <td>45</td>\n",
       "      <td>0</td>\n",
       "      <td>-7.0</td>\n",
       "      <td>CIN</td>\n",
       "      <td>44.0</td>\n",
       "      <td>2022-09-11</td>\n",
       "    </tr>\n",
       "  </tbody>\n",
       "</table>\n",
       "<p>100 rows × 69 columns</p>\n",
       "</div>"
      ],
      "text/plain": [
       "         game_id player_id pos              player team  pass_cmp  pass_att  \\\n",
       "0   202209080ram  AlleJo02  QB          Josh Allen  BUF        26        31   \n",
       "1   202209080ram  SingDe00  RB    Devin Singletary  BUF         0         0   \n",
       "2   202209080ram  MossZa00  RB           Zack Moss  BUF         0         0   \n",
       "3   202209080ram  CookJa01  RB          James Cook  BUF         0         0   \n",
       "4   202209080ram  DiggSt00  WR        Stefon Diggs  BUF         0         0   \n",
       "..           ...       ...  ..                 ...  ...       ...       ...   \n",
       "95  202209110cin  HeywCo00  TE      Connor Heyward  PIT         0         0   \n",
       "96  202209110cin  TaylTr02  WR        Trent Taylor  CIN         0         0   \n",
       "97  202209110cin  MorgSt02  WR  Stanley Morgan Jr.  CIN         0         0   \n",
       "98  202209110cin  WilcMi01  TE     Mitchell Wilcox  CIN         0         0   \n",
       "99  202209110cin  BurrJo01  QB          Joe Burrow  CIN        33        53   \n",
       "\n",
       "    pass_yds  pass_td  pass_int  ...     OT      Roof     Surface  \\\n",
       "0        297        3         2  ...  False      dome  matrixturf   \n",
       "1          0        0         0  ...  False      dome  matrixturf   \n",
       "2          0        0         0  ...  False      dome  matrixturf   \n",
       "3          0        0         0  ...  False      dome  matrixturf   \n",
       "4          0        0         0  ...  False      dome  matrixturf   \n",
       "..       ...      ...       ...  ...    ...       ...         ...   \n",
       "95         0        0         0  ...   True  outdoors  fieldturf    \n",
       "96         0        0         0  ...   True  outdoors  fieldturf    \n",
       "97         0        0         0  ...   True  outdoors  fieldturf    \n",
       "98         0        0         0  ...   True  outdoors  fieldturf    \n",
       "99       338        2         4  ...   True  outdoors  fieldturf    \n",
       "\n",
       "    Temperature  Humidity  Wind_Speed  Vegas_Line  Vegas_Favorite  Over_Under  \\\n",
       "0            72        45           0        -2.5             BUF        52.0   \n",
       "1            72        45           0        -2.5             BUF        52.0   \n",
       "2            72        45           0        -2.5             BUF        52.0   \n",
       "3            72        45           0        -2.5             BUF        52.0   \n",
       "4            72        45           0        -2.5             BUF        52.0   \n",
       "..          ...       ...         ...         ...             ...         ...   \n",
       "95           72        45           0        -7.0             CIN        44.0   \n",
       "96           72        45           0        -7.0             CIN        44.0   \n",
       "97           72        45           0        -7.0             CIN        44.0   \n",
       "98           72        45           0        -7.0             CIN        44.0   \n",
       "99           72        45           0        -7.0             CIN        44.0   \n",
       "\n",
       "     game_date  \n",
       "0   2022-09-08  \n",
       "1   2022-09-08  \n",
       "2   2022-09-08  \n",
       "3   2022-09-08  \n",
       "4   2022-09-08  \n",
       "..         ...  \n",
       "95  2022-09-11  \n",
       "96  2022-09-11  \n",
       "97  2022-09-11  \n",
       "98  2022-09-11  \n",
       "99  2022-09-11  \n",
       "\n",
       "[100 rows x 69 columns]"
      ]
     },
     "execution_count": 5,
     "metadata": {},
     "output_type": "execute_result"
    }
   ],
   "source": [
    "offense_df[0:100]"
   ]
  },
  {
   "cell_type": "code",
   "execution_count": 11,
   "id": "65472d6a",
   "metadata": {},
   "outputs": [],
   "source": [
    "# qbs_df = []\n",
    "# for entry in offense_df:\n",
    "#     if offense_df['pos']=='QB':\n",
    "#         qbs_df.append(entry)\n"
   ]
  },
  {
   "cell_type": "code",
   "execution_count": 38,
   "id": "9709ebaf",
   "metadata": {},
   "outputs": [],
   "source": [
    "qbs_df = offense_df[offense_df['pos']=='QB']\n",
    "# qbs_df"
   ]
  },
  {
   "cell_type": "markdown",
   "id": "0b36a3d4",
   "metadata": {},
   "source": [
    "Apprarently 277 QB entries this season, this data reflects weeks 1-8 of the NFL 2022 regular season. <br>\n",
    "32 teams * 8 games = 256 minus teams on bye so there have certainly been backups, injuries, and QB changes."
   ]
  },
  {
   "cell_type": "code",
   "execution_count": 19,
   "id": "aba3ef6e",
   "metadata": {},
   "outputs": [
    {
     "name": "stdout",
     "output_type": "stream",
     "text": [
      "['Josh Allen' 'Matthew Stafford' 'Jameis Winston' 'Taysom Hill'\n",
      " 'Marcus Mariota' 'Baker Mayfield' 'Jacoby Brissett' 'Trey Lance'\n",
      " 'Justin Fields' 'Joe Burrow' 'Mitchell Trubisky' 'Patrick Mahomes'\n",
      " 'Kyler Murray' 'Trace McSorley' 'Dak Prescott' 'Cooper Rush' 'Tom Brady'\n",
      " 'Jared Goff' 'Jalen Hurts' 'Matt Ryan' 'Davis Mills' 'Jeff Driskel'\n",
      " 'Mac Jones' 'Tua Tagovailoa' 'Aaron Rodgers' 'Jordan Love' 'Kirk Cousins'\n",
      " 'Lamar Jackson' 'Joe Flacco' 'Daniel Jones' 'Ryan Tannehill' 'Derek Carr'\n",
      " 'Justin Herbert' 'Trevor Lawrence' 'Carson Wentz' 'Geno Smith'\n",
      " 'Russell Wilson' 'Jimmy Garoppolo' 'Case Keenum' 'Malik Willis'\n",
      " 'Teddy Bridgewater' 'C.J. Beathard' 'Bailey Zappe' 'Brian Hoyer'\n",
      " 'Andy Dalton' 'Tyrod Taylor' 'Zach Wilson' 'Kenny Pickett' 'Brock Purdy'\n",
      " 'P.J. Walker' 'Skylar Thompson' 'Jacob Eason' 'Brett Rypien' 'Chad Henne'\n",
      " 'Taylor Heinicke' 'Sam Ehlinger' 'Trevor Siemian' 'Jarrett Stidham'\n",
      " 'Gardner Minshew II']\n",
      "59\n"
     ]
    }
   ],
   "source": [
    "print(qbs_df['player'].unique())\n",
    "print(len(qbs_df['player'].unique()))"
   ]
  },
  {
   "cell_type": "markdown",
   "id": "2fd6cd70",
   "metadata": {},
   "source": [
    "59 QBs have made appearances this season. <br>\n",
    "We will take a look at each of these players."
   ]
  },
  {
   "cell_type": "code",
   "execution_count": 21,
   "id": "2cccb6e7",
   "metadata": {},
   "outputs": [
    {
     "data": {
      "text/plain": [
       "Joe Burrow            8\n",
       "Daniel Jones          8\n",
       "Kyler Murray          8\n",
       "Marcus Mariota        8\n",
       "Justin Fields         8\n",
       "Lamar Jackson         8\n",
       "Aaron Rodgers         8\n",
       "Geno Smith            8\n",
       "Tom Brady             8\n",
       "Jacoby Brissett       8\n",
       "Trevor Lawrence       8\n",
       "Jared Goff            7\n",
       "Davis Mills           7\n",
       "Matt Ryan             7\n",
       "Matthew Stafford      7\n",
       "Derek Carr            7\n",
       "Kirk Cousins          7\n",
       "Russell Wilson        7\n",
       "Jalen Hurts           7\n",
       "Josh Allen            7\n",
       "Justin Herbert        7\n",
       "Jimmy Garoppolo       7\n",
       "Patrick Mahomes       7\n",
       "Cooper Rush           6\n",
       "Tua Tagovailoa        6\n",
       "Carson Wentz          6\n",
       "Ryan Tannehill        6\n",
       "Kenny Pickett         5\n",
       "Baker Mayfield        5\n",
       "Mac Jones             5\n",
       "Andy Dalton           5\n",
       "Mitchell Trubisky     5\n",
       "Zach Wilson           5\n",
       "Teddy Bridgewater     4\n",
       "Bailey Zappe          4\n",
       "P.J. Walker           4\n",
       "Taysom Hill           3\n",
       "Joe Flacco            3\n",
       "Dak Prescott          3\n",
       "Jameis Winston        3\n",
       "Skylar Thompson       2\n",
       "Jordan Love           2\n",
       "Brock Purdy           2\n",
       "Trey Lance            2\n",
       "Taylor Heinicke       2\n",
       "Case Keenum           2\n",
       "Malik Willis          2\n",
       "Jeff Driskel          2\n",
       "Trace McSorley        1\n",
       "Brian Hoyer           1\n",
       "Sam Ehlinger          1\n",
       "Jacob Eason           1\n",
       "Tyrod Taylor          1\n",
       "C.J. Beathard         1\n",
       "Gardner Minshew II    1\n",
       "Chad Henne            1\n",
       "Brett Rypien          1\n",
       "Jarrett Stidham       1\n",
       "Trevor Siemian        1\n",
       "Name: player, dtype: int64"
      ]
     },
     "execution_count": 21,
     "metadata": {},
     "output_type": "execute_result"
    }
   ],
   "source": [
    "qbs_df['player'].value_counts()"
   ]
  },
  {
   "cell_type": "markdown",
   "id": "737ba6da",
   "metadata": {},
   "source": [
    "Taking a look at passing yards, rushing yards, passer rating, and TD:INT rate for top QBs this season (contextual understanding and interpretation of successful teams and widely regarded QBs)."
   ]
  },
  {
   "cell_type": "code",
   "execution_count": 30,
   "id": "1e06864a",
   "metadata": {},
   "outputs": [
    {
     "data": {
      "text/plain": [
       "Index(['game_id', 'player_id', 'pos', 'player', 'team', 'pass_cmp', 'pass_att',\n",
       "       'pass_yds', 'pass_td', 'pass_int', 'pass_sacked', 'pass_sacked_yds',\n",
       "       'pass_long', 'pass_rating', 'rush_att', 'rush_yds', 'rush_td',\n",
       "       'rush_long', 'targets', 'rec', 'rec_yds', 'rec_td', 'rec_long',\n",
       "       'fumbles_lost', 'rush_scrambles', 'designed_rush_att',\n",
       "       'comb_pass_rush_play', 'comb_pass_play', 'comb_rush_play',\n",
       "       'Team_abbrev', 'Opponent_abbrev', 'two_point_conv', 'total_ret_td',\n",
       "       'offensive_fumble_recovery_td', 'pass_yds_bonus', 'rush_yds_bonus',\n",
       "       'rec_yds_bonus', 'Total_DKP', 'Off_DKP', 'Total_FDP', 'Off_FDP',\n",
       "       'Total_SDP', 'Off_SDP', 'pass_target_yds', 'pass_poor_throws',\n",
       "       'pass_blitzed', 'pass_hurried', 'rush_yds_before_contact', 'rush_yac',\n",
       "       'rush_broken_tackles', 'rec_air_yds', 'rec_yac', 'rec_drops', 'offense',\n",
       "       'off_pct', 'vis_team', 'home_team', 'vis_score', 'home_score', 'OT',\n",
       "       'Roof', 'Surface', 'Temperature', 'Humidity', 'Wind_Speed',\n",
       "       'Vegas_Line', 'Vegas_Favorite', 'Over_Under', 'game_date'],\n",
       "      dtype='object')"
      ]
     },
     "execution_count": 30,
     "metadata": {},
     "output_type": "execute_result"
    }
   ],
   "source": [
    "qbs_df.columns"
   ]
  },
  {
   "cell_type": "code",
   "execution_count": 37,
   "id": "d7c10096",
   "metadata": {
    "scrolled": true
   },
   "outputs": [],
   "source": [
    "joshallen_df = qbs_df[qbs_df['player']=='Josh Allen']\n",
    "# joshallen_df"
   ]
  },
  {
   "cell_type": "markdown",
   "id": "234f223c",
   "metadata": {},
   "source": [
    "## Players will be displayed with their stats from here on down:"
   ]
  },
  {
   "cell_type": "code",
   "execution_count": 35,
   "id": "8ece7fa2",
   "metadata": {
    "scrolled": true
   },
   "outputs": [
    {
     "name": "stdout",
     "output_type": "stream",
     "text": [
      "joshallen pass_yds:  2198\n",
      "joshallen rush_yds:  306\n",
      "joshallen pass_td:  19\n",
      "joshallen pass_int:  6\n",
      "joshallen rush_td:  2\n",
      "joshallen fumbles_lost:  2\n",
      "joshallen pass_rating:  104.4\n"
     ]
    }
   ],
   "source": [
    "print('joshallen pass_yds: ', joshallen_df['pass_yds'].sum())\n",
    "print('joshallen rush_yds: ', joshallen_df['rush_yds'].sum())\n",
    "print('joshallen pass_td: ', joshallen_df['pass_td'].sum())\n",
    "print('joshallen pass_int: ', joshallen_df['pass_int'].sum())\n",
    "print('joshallen rush_td: ', joshallen_df['rush_td'].sum())\n",
    "print('joshallen fumbles_lost: ', joshallen_df['fumbles_lost'].sum())\n",
    "print('joshallen pass_rating: ', joshallen_df['pass_rating'].mean())"
   ]
  },
  {
   "cell_type": "code",
   "execution_count": 39,
   "id": "69429cb9",
   "metadata": {},
   "outputs": [
    {
     "name": "stdout",
     "output_type": "stream",
     "text": [
      "joeburrow pass_yds:  2329\n",
      "joeburrow rush_yds:  132\n",
      "joeburrow pass_td:  17\n",
      "joeburrow pass_int:  6\n",
      "joeburrow rush_td:  3\n",
      "joeburrow fumbles_lost:  2\n",
      "joeburrow pass_rating:  103.21249999999999\n"
     ]
    }
   ],
   "source": [
    "joeburrow_df = qbs_df[qbs_df['player']=='Joe Burrow']\n",
    "print('joeburrow pass_yds: ', joeburrow_df['pass_yds'].sum())\n",
    "print('joeburrow rush_yds: ', joeburrow_df['rush_yds'].sum())\n",
    "print('joeburrow pass_td: ', joeburrow_df['pass_td'].sum())\n",
    "print('joeburrow pass_int: ', joeburrow_df['pass_int'].sum())\n",
    "print('joeburrow rush_td: ', joeburrow_df['rush_td'].sum())\n",
    "print('joeburrow fumbles_lost: ', joeburrow_df['fumbles_lost'].sum())\n",
    "print('joeburrow pass_rating: ', joeburrow_df['pass_rating'].mean())"
   ]
  },
  {
   "cell_type": "code",
   "execution_count": 40,
   "id": "e9d4f638",
   "metadata": {},
   "outputs": [
    {
     "name": "stdout",
     "output_type": "stream",
     "text": [
      "danieljones pass_yds:  1399\n",
      "danieljones rush_yds:  363\n",
      "danieljones pass_td:  6\n",
      "danieljones pass_int:  2\n",
      "danieljones rush_td:  3\n",
      "danieljones fumbles_lost:  2\n",
      "danieljones pass_rating:  89.37499999999999\n"
     ]
    }
   ],
   "source": [
    "danieljones_df = qbs_df[qbs_df['player']=='Daniel Jones']\n",
    "print('danieljones pass_yds: ', danieljones_df['pass_yds'].sum())\n",
    "print('danieljones rush_yds: ', danieljones_df['rush_yds'].sum())\n",
    "print('danieljones pass_td: ', danieljones_df['pass_td'].sum())\n",
    "print('danieljones pass_int: ', danieljones_df['pass_int'].sum())\n",
    "print('danieljones rush_td: ', danieljones_df['rush_td'].sum())\n",
    "print('danieljones fumbles_lost: ', danieljones_df['fumbles_lost'].sum())\n",
    "print('danieljones pass_rating: ', danieljones_df['pass_rating'].mean())"
   ]
  },
  {
   "cell_type": "code",
   "execution_count": 41,
   "id": "6d83e644",
   "metadata": {},
   "outputs": [
    {
     "name": "stdout",
     "output_type": "stream",
     "text": [
      "kylermurray pass_yds:  1993\n",
      "kylermurray rush_yds:  299\n",
      "kylermurray pass_td:  10\n",
      "kylermurray pass_int:  6\n",
      "kylermurray rush_td:  2\n",
      "kylermurray fumbles_lost:  1\n",
      "kylermurray pass_rating:  86.8125\n"
     ]
    }
   ],
   "source": [
    "kylermurray_df = qbs_df[qbs_df['player']=='Kyler Murray']\n",
    "print('kylermurray pass_yds: ', kylermurray_df['pass_yds'].sum())\n",
    "print('kylermurray rush_yds: ', kylermurray_df['rush_yds'].sum())\n",
    "print('kylermurray pass_td: ', kylermurray_df['pass_td'].sum())\n",
    "print('kylermurray pass_int: ', kylermurray_df['pass_int'].sum())\n",
    "print('kylermurray rush_td: ', kylermurray_df['rush_td'].sum())\n",
    "print('kylermurray fumbles_lost: ', kylermurray_df['fumbles_lost'].sum())\n",
    "print('kylermurray pass_rating: ', kylermurray_df['pass_rating'].mean())"
   ]
  },
  {
   "cell_type": "code",
   "execution_count": 43,
   "id": "dd34f76f",
   "metadata": {},
   "outputs": [
    {
     "name": "stdout",
     "output_type": "stream",
     "text": [
      "marcusmariota pass_yds:  1432\n",
      "marcusmariota rush_yds:  280\n",
      "marcusmariota pass_td:  10\n",
      "marcusmariota pass_int:  6\n",
      "marcusmariota rush_td:  3\n",
      "marcusmariota fumbles_lost:  3\n",
      "marcusmariota pass_rating:  94.68750000000001\n"
     ]
    }
   ],
   "source": [
    "marcusmariota_df = qbs_df[qbs_df['player']=='Marcus Mariota']\n",
    "print('marcusmariota pass_yds: ', marcusmariota_df['pass_yds'].sum())\n",
    "print('marcusmariota rush_yds: ', marcusmariota_df['rush_yds'].sum())\n",
    "print('marcusmariota pass_td: ', marcusmariota_df['pass_td'].sum())\n",
    "print('marcusmariota pass_int: ', marcusmariota_df['pass_int'].sum())\n",
    "print('marcusmariota rush_td: ', marcusmariota_df['rush_td'].sum())\n",
    "print('marcusmariota fumbles_lost: ', marcusmariota_df['fumbles_lost'].sum())\n",
    "print('marcusmariota pass_rating: ', marcusmariota_df['pass_rating'].mean())"
   ]
  },
  {
   "cell_type": "code",
   "execution_count": 44,
   "id": "21db2a54",
   "metadata": {},
   "outputs": [
    {
     "name": "stdout",
     "output_type": "stream",
     "text": [
      "justinfields pass_yds:  1199\n",
      "justinfields rush_yds:  424\n",
      "justinfields pass_td:  7\n",
      "justinfields pass_int:  6\n",
      "justinfields rush_td:  3\n",
      "justinfields fumbles_lost:  1\n",
      "justinfields pass_rating:  78.65\n"
     ]
    }
   ],
   "source": [
    "justinfields_df = qbs_df[qbs_df['player']=='Justin Fields']\n",
    "print('justinfields pass_yds: ', justinfields_df['pass_yds'].sum())\n",
    "print('justinfields rush_yds: ', justinfields_df['rush_yds'].sum())\n",
    "print('justinfields pass_td: ', justinfields_df['pass_td'].sum())\n",
    "print('justinfields pass_int: ', justinfields_df['pass_int'].sum())\n",
    "print('justinfields rush_td: ', justinfields_df['rush_td'].sum())\n",
    "print('justinfields fumbles_lost: ', justinfields_df['fumbles_lost'].sum())\n",
    "print('justinfields pass_rating: ', justinfields_df['pass_rating'].mean())"
   ]
  },
  {
   "cell_type": "code",
   "execution_count": 48,
   "id": "cf373328",
   "metadata": {},
   "outputs": [
    {
     "name": "stdout",
     "output_type": "stream",
     "text": [
      "lamarjackson pass_yds:  1635\n",
      "lamarjackson rush_yds:  553\n",
      "lamarjackson pass_td:  15\n",
      "lamarjackson pass_int:  6\n",
      "lamarjackson rush_td:  2\n",
      "lamarjackson fumbles_lost:  1\n",
      "lamarjackson pass_rating:  92.75\n"
     ]
    }
   ],
   "source": [
    "#Lamar\n",
    "lamarjackson_df = qbs_df[qbs_df['player']=='Lamar Jackson']\n",
    "print('lamarjackson pass_yds: ', lamarjackson_df['pass_yds'].sum())\n",
    "print('lamarjackson rush_yds: ', lamarjackson_df['rush_yds'].sum())\n",
    "print('lamarjackson pass_td: ', lamarjackson_df['pass_td'].sum())\n",
    "print('lamarjackson pass_int: ', lamarjackson_df['pass_int'].sum())\n",
    "print('lamarjackson rush_td: ', lamarjackson_df['rush_td'].sum())\n",
    "print('lamarjackson fumbles_lost: ', lamarjackson_df['fumbles_lost'].sum())\n",
    "print('lamarjackson pass_rating: ', lamarjackson_df['pass_rating'].mean())"
   ]
  },
  {
   "cell_type": "code",
   "execution_count": 49,
   "id": "cd472668",
   "metadata": {},
   "outputs": [
    {
     "name": "stdout",
     "output_type": "stream",
     "text": [
      "aaronrodgers pass_yds:  1199\n",
      "aaronrodgers rush_yds:  424\n",
      "aaronrodgers pass_td:  7\n",
      "aaronrodgers pass_int:  6\n",
      "aaronrodgers rush_td:  3\n",
      "aaronrodgers fumbles_lost:  1\n",
      "aaronrodgers pass_rating:  78.65\n"
     ]
    }
   ],
   "source": [
    "#Aaron\n",
    "aaronrodgers_df = qbs_df[qbs_df['player']=='Justin Fields']\n",
    "print('aaronrodgers pass_yds: ', aaronrodgers_df['pass_yds'].sum())\n",
    "print('aaronrodgers rush_yds: ', aaronrodgers_df['rush_yds'].sum())\n",
    "print('aaronrodgers pass_td: ', aaronrodgers_df['pass_td'].sum())\n",
    "print('aaronrodgers pass_int: ', aaronrodgers_df['pass_int'].sum())\n",
    "print('aaronrodgers rush_td: ', aaronrodgers_df['rush_td'].sum())\n",
    "print('aaronrodgers fumbles_lost: ', aaronrodgers_df['fumbles_lost'].sum())\n",
    "print('aaronrodgers pass_rating: ', aaronrodgers_df['pass_rating'].mean())"
   ]
  },
  {
   "cell_type": "code",
   "execution_count": 50,
   "id": "8506122a",
   "metadata": {},
   "outputs": [
    {
     "name": "stdout",
     "output_type": "stream",
     "text": [
      "genosmith pass_yds:  1924\n",
      "genosmith rush_yds:  158\n",
      "genosmith pass_td:  13\n",
      "genosmith pass_int:  3\n",
      "genosmith rush_td:  1\n",
      "genosmith fumbles_lost:  1\n",
      "genosmith pass_rating:  107.85\n"
     ]
    }
   ],
   "source": [
    "#Geno\n",
    "genosmith_df = qbs_df[qbs_df['player']=='Geno Smith']\n",
    "print('genosmith pass_yds: ', genosmith_df['pass_yds'].sum())\n",
    "print('genosmith rush_yds: ', genosmith_df['rush_yds'].sum())\n",
    "print('genosmith pass_td: ', genosmith_df['pass_td'].sum())\n",
    "print('genosmith pass_int: ', genosmith_df['pass_int'].sum())\n",
    "print('genosmith rush_td: ', genosmith_df['rush_td'].sum())\n",
    "print('genosmith fumbles_lost: ', genosmith_df['fumbles_lost'].sum())\n",
    "print('genosmith pass_rating: ', genosmith_df['pass_rating'].mean())"
   ]
  },
  {
   "cell_type": "code",
   "execution_count": 52,
   "id": "669d13ee",
   "metadata": {},
   "outputs": [
    {
     "name": "stdout",
     "output_type": "stream",
     "text": [
      "tombrady pass_yds:  2267\n",
      "tombrady rush_yds:  -5\n",
      "tombrady pass_td:  9\n",
      "tombrady pass_int:  1\n",
      "tombrady rush_td:  0\n",
      "tombrady fumbles_lost:  2\n",
      "tombrady pass_rating:  91.3875\n"
     ]
    }
   ],
   "source": [
    "#Tom\n",
    "tombrady_df = qbs_df[qbs_df['player']=='Tom Brady']\n",
    "print('tombrady pass_yds: ', tombrady_df['pass_yds'].sum())\n",
    "print('tombrady rush_yds: ', tombrady_df['rush_yds'].sum())\n",
    "print('tombrady pass_td: ', tombrady_df['pass_td'].sum())\n",
    "print('tombrady pass_int: ', tombrady_df['pass_int'].sum())\n",
    "print('tombrady rush_td: ', tombrady_df['rush_td'].sum())\n",
    "print('tombrady fumbles_lost: ', tombrady_df['fumbles_lost'].sum())\n",
    "print('tombrady pass_rating: ', tombrady_df['pass_rating'].mean())"
   ]
  },
  {
   "cell_type": "code",
   "execution_count": 51,
   "id": "2292f2b1",
   "metadata": {},
   "outputs": [
    {
     "name": "stdout",
     "output_type": "stream",
     "text": [
      "jacobybrissett pass_yds:  1862\n",
      "jacobybrissett rush_yds:  142\n",
      "jacobybrissett pass_td:  7\n",
      "jacobybrissett pass_int:  5\n",
      "jacobybrissett rush_td:  2\n",
      "jacobybrissett fumbles_lost:  3\n",
      "jacobybrissett pass_rating:  90.5625\n"
     ]
    }
   ],
   "source": [
    "#Brissett\n",
    "jacobybrissett_df = qbs_df[qbs_df['player']=='Jacoby Brissett']\n",
    "print('jacobybrissett pass_yds: ', jacobybrissett_df['pass_yds'].sum())\n",
    "print('jacobybrissett rush_yds: ', jacobybrissett_df['rush_yds'].sum())\n",
    "print('jacobybrissett pass_td: ', jacobybrissett_df['pass_td'].sum())\n",
    "print('jacobybrissett pass_int: ', jacobybrissett_df['pass_int'].sum())\n",
    "print('jacobybrissett rush_td: ', jacobybrissett_df['rush_td'].sum())\n",
    "print('jacobybrissett fumbles_lost: ', jacobybrissett_df['fumbles_lost'].sum())\n",
    "print('jacobybrissett pass_rating: ', jacobybrissett_df['pass_rating'].mean())"
   ]
  },
  {
   "cell_type": "code",
   "execution_count": 53,
   "id": "78b9886a",
   "metadata": {},
   "outputs": [
    {
     "name": "stdout",
     "output_type": "stream",
     "text": [
      "trevorlawrence pass_yds:  1840\n",
      "trevorlawrence rush_yds:  99\n",
      "trevorlawrence pass_td:  10\n",
      "trevorlawrence pass_int:  6\n",
      "trevorlawrence rush_td:  3\n",
      "trevorlawrence fumbles_lost:  4\n",
      "trevorlawrence pass_rating:  86.3\n"
     ]
    }
   ],
   "source": [
    "#Lawrence\n",
    "trevorlawrence_df = qbs_df[qbs_df['player']=='Trevor Lawrence']\n",
    "print('trevorlawrence pass_yds: ', trevorlawrence_df['pass_yds'].sum())\n",
    "print('trevorlawrence rush_yds: ', trevorlawrence_df['rush_yds'].sum())\n",
    "print('trevorlawrence pass_td: ', trevorlawrence_df['pass_td'].sum())\n",
    "print('trevorlawrence pass_int: ', trevorlawrence_df['pass_int'].sum())\n",
    "print('trevorlawrence rush_td: ', trevorlawrence_df['rush_td'].sum())\n",
    "print('trevorlawrence fumbles_lost: ', trevorlawrence_df['fumbles_lost'].sum())\n",
    "print('trevorlawrence pass_rating: ', trevorlawrence_df['pass_rating'].mean())"
   ]
  },
  {
   "cell_type": "markdown",
   "id": "a935b21b",
   "metadata": {},
   "source": [
    "All QBs who haven't had a bye were analyzed above. Refer josh allen as test subject 1 although he has 7 GP."
   ]
  },
  {
   "cell_type": "code",
   "execution_count": null,
   "id": "6236a096",
   "metadata": {},
   "outputs": [],
   "source": []
  }
 ],
 "metadata": {
  "kernelspec": {
   "display_name": "Python (learn-env)",
   "language": "python",
   "name": "learn-env"
  },
  "language_info": {
   "codemirror_mode": {
    "name": "ipython",
    "version": 3
   },
   "file_extension": ".py",
   "mimetype": "text/x-python",
   "name": "python",
   "nbconvert_exporter": "python",
   "pygments_lexer": "ipython3",
   "version": "3.8.8"
  }
 },
 "nbformat": 4,
 "nbformat_minor": 5
}
